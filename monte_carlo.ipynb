{
 "metadata": {
  "language_info": {
   "codemirror_mode": {
    "name": "ipython",
    "version": 3
   },
   "file_extension": ".py",
   "mimetype": "text/x-python",
   "name": "python",
   "nbconvert_exporter": "python",
   "pygments_lexer": "ipython3",
   "version": "3.7.1-final"
  },
  "orig_nbformat": 2,
  "kernelspec": {
   "name": "python3",
   "display_name": "Python 3",
   "language": "python"
  }
 },
 "nbformat": 4,
 "nbformat_minor": 2,
 "cells": [
  {
   "cell_type": "code",
   "execution_count": 4,
   "metadata": {},
   "outputs": [],
   "source": [
    "import numpy as np\n",
    "import pandas as pd"
   ]
  },
  {
   "cell_type": "code",
   "execution_count": 6,
   "metadata": {
    "tags": []
   },
   "outputs": [],
   "source": [
    "sim_price = 0 # the end of simulation price\n",
    "steps = 10000 # steps of monte carlo simulation\n",
    "\n",
    "list_price = []\n",
    "list_\n",
    "\n",
    "for step in range(steps):\n",
    "    price = 100 # initial stock price\n",
    "    for i in range(12):\n",
    "        '''monte carlo simulation for 10 weeks'''\n",
    "        epsilon = np.random.normal(0,1) # sampling from normal distribution\n",
    "        s = price # iterative new price\n",
    "        delta_s = 0.00288*s+0.0416*s*epsilon # the eqution of geometric Brownian motion\n",
    "        price = price + delta_s # initial price + delta S = new price\n",
    "        # print(price)\n",
    "    sim_price = sim_price + price\n",
    "sim_price = sim_price/steps\n",
    "\n",
    "table = pd.DataFrame(\n",
    "    columns=[\"Stock price \\n at start of period\",'Random sample \\n for \u0003epsilon','Change in stock price \\n during period'])"
   ]
  },
  {
   "cell_type": "code",
   "execution_count": 7,
   "metadata": {},
   "outputs": [
    {
     "output_type": "execute_result",
     "data": {
      "text/plain": [
       "Empty DataFrame\n",
       "Columns: [Stock price \n",
       " at start of period, Random sample \n",
       " for \u0003epsilon, Change in stock price \n",
       " during period]\n",
       "Index: []"
      ],
      "text/html": "<div>\n<style scoped>\n    .dataframe tbody tr th:only-of-type {\n        vertical-align: middle;\n    }\n\n    .dataframe tbody tr th {\n        vertical-align: top;\n    }\n\n    .dataframe thead th {\n        text-align: right;\n    }\n</style>\n<table border=\"1\" class=\"dataframe\">\n  <thead>\n    <tr style=\"text-align: right;\">\n      <th></th>\n      <th>Stock price \n at start of period</th>\n      <th>Random sample \n for \u0003epsilon</th>\n      <th>Change in stock price \n during period</th>\n    </tr>\n  </thead>\n  <tbody>\n  </tbody>\n</table>\n</div>"
     },
     "metadata": {},
     "execution_count": 7
    }
   ],
   "source": [
    "table"
   ]
  },
  {
   "cell_type": "code",
   "execution_count": null,
   "metadata": {},
   "outputs": [],
   "source": []
  }
 ]
}